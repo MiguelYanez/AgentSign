{
  "nbformat": 4,
  "nbformat_minor": 0,
  "metadata": {
    "colab": {
      "provenance": [],
      "gpuType": "T4"
    },
    "kernelspec": {
      "name": "python3",
      "display_name": "Python 3"
    },
    "language_info": {
      "name": "python"
    },
    "accelerator": "GPU"
  },
  "cells": [
    {
      "cell_type": "code",
      "execution_count": null,
      "metadata": {
        "id": "jUvrWkIDpnJz"
      },
      "outputs": [],
      "source": [
        "import numpy as np"
      ]
    },
    {
      "cell_type": "code",
      "source": [
        "# ok = np.load('./ok.npy')\n",
        "\n",
        "stop = np.load('./stop.npy')\n",
        "neutral = np.load('./neutral.npy')\n",
        "right = np.load('./right.npy')\n",
        "left = np.load('./left.npy')"
      ],
      "metadata": {
        "id": "bcTbf_LtptVN"
      },
      "execution_count": null,
      "outputs": []
    },
    {
      "cell_type": "code",
      "source": [
        "print(stop.shape)\n",
        "print(neutral.shape)\n",
        "print(right.shape)\n",
        "print(left.shape)"
      ],
      "metadata": {
        "colab": {
          "base_uri": "https://localhost:8080/"
        },
        "id": "p3wZnHoTxoo4",
        "outputId": "9b433da9-0b41-4b7d-a33d-d8392b4b8ec1"
      },
      "execution_count": null,
      "outputs": [
        {
          "output_type": "stream",
          "name": "stdout",
          "text": [
            "(1578, 42)\n",
            "(1021, 42)\n",
            "(1471, 42)\n",
            "(1307, 42)\n"
          ]
        }
      ]
    },
    {
      "cell_type": "code",
      "source": [
        "def normalize_keypoints(kp):\n",
        "  for i in range(0, len(kp)):\n",
        "      non_zero_x = kp[i][0:21][kp[i][0:21] != 0]\n",
        "      non_zero_y = kp[i][21:42][kp[i][21:42] != 0]\n",
        "\n",
        "      min_val = [np.min(non_zero_x), np.min(non_zero_y)]\n",
        "      max_val = [np.max(non_zero_x), np.max(non_zero_y)]\n",
        "\n",
        "      kp[i][0:21] = (kp[i][0:21] - min_val[0]) / (max_val[0] - min_val[0])\n",
        "\n",
        "      kp[i][21:42] = (kp[i][21:42] - min_val[1]) / (max_val[1] - min_val[1])\n",
        "  return kp"
      ],
      "metadata": {
        "id": "McbLVGb0vUOw"
      },
      "execution_count": null,
      "outputs": []
    },
    {
      "cell_type": "code",
      "source": [
        "stop = normalize_keypoints(stop)\n",
        "neutral = normalize_keypoints(neutral)\n",
        "right = normalize_keypoints(right)\n",
        "left = normalize_keypoints(left)"
      ],
      "metadata": {
        "id": "tDgKm06Bx93I"
      },
      "execution_count": null,
      "outputs": []
    },
    {
      "cell_type": "code",
      "source": [
        "import matplotlib.pyplot as plt\n",
        "def poselines2(frame):\n",
        "  # plt.xlim(0, 1)  # Set limits for x-axis\n",
        "  # plt.ylim(-1, 0) # Set limits for y-axis\n",
        "  x = frame[0:21]\n",
        "  y = frame[21:42]\n",
        "  xbl = [0,4,0,6,3,9,11,11,12,13,14]\n",
        "  ybl = [4,7,4,8,7,10,13,12,14,15,16]\n",
        "  xh = [17, 22, 26, 30, 34, 17, 22, 26, 30, 17]\n",
        "  yh = [22, 26, 30, 34, 38, 22, 26, 30, 34, 34]\n",
        "\n",
        "  for i in range(21):\n",
        "    if (x[i] != 0 ):\n",
        "      plt.plot(x[i], -y[i], 'bo-')"
      ],
      "metadata": {
        "id": "lqyGM3ydqhX-"
      },
      "execution_count": null,
      "outputs": []
    },
    {
      "cell_type": "code",
      "source": [
        "# for i in ok:\n",
        "#   poselines2(i)\n",
        "#   plt.show()"
      ],
      "metadata": {
        "id": "Nkoeu-m8qoue"
      },
      "execution_count": null,
      "outputs": []
    },
    {
      "cell_type": "code",
      "source": [
        "# ok = ok[:1000, :]\n",
        "stop = stop[:1000, :]\n",
        "neutral = neutral[:1000, :]\n",
        "right = right[:1000, :]\n",
        "left = left[:1000, :]"
      ],
      "metadata": {
        "id": "swxe1WLuzlEA"
      },
      "execution_count": null,
      "outputs": []
    },
    {
      "cell_type": "code",
      "source": [
        "stop.shape"
      ],
      "metadata": {
        "colab": {
          "base_uri": "https://localhost:8080/"
        },
        "id": "H1GjSTAcz3m5",
        "outputId": "1f4587d1-b37b-4b26-9338-44b631da5af1"
      },
      "execution_count": null,
      "outputs": [
        {
          "output_type": "execute_result",
          "data": {
            "text/plain": [
              "(1000, 42)"
            ]
          },
          "metadata": {},
          "execution_count": 38
        }
      ]
    },
    {
      "cell_type": "code",
      "source": [
        "X = np.concatenate([stop, neutral, right, left])"
      ],
      "metadata": {
        "id": "J3kUwjqUz54-"
      },
      "execution_count": null,
      "outputs": []
    },
    {
      "cell_type": "code",
      "source": [
        "X.shape"
      ],
      "metadata": {
        "colab": {
          "base_uri": "https://localhost:8080/"
        },
        "id": "Sc2mPHQi0JBI",
        "outputId": "4d4c315d-16c1-43d1-b2f3-b067c54f0bd5"
      },
      "execution_count": null,
      "outputs": [
        {
          "output_type": "execute_result",
          "data": {
            "text/plain": [
              "(4000, 42)"
            ]
          },
          "metadata": {},
          "execution_count": 40
        }
      ]
    },
    {
      "cell_type": "code",
      "source": [
        "num_labels = X.shape[0] // 1000\n",
        "labels = np.repeat(np.arange(num_labels), 1000)\n",
        "labels = labels\n",
        "labels.shape"
      ],
      "metadata": {
        "colab": {
          "base_uri": "https://localhost:8080/"
        },
        "id": "ZEkTj9bq0K1v",
        "outputId": "700cb1b8-b05c-4b0b-ba63-a191c50ab881"
      },
      "execution_count": null,
      "outputs": [
        {
          "output_type": "execute_result",
          "data": {
            "text/plain": [
              "(4000,)"
            ]
          },
          "metadata": {},
          "execution_count": 41
        }
      ]
    },
    {
      "cell_type": "code",
      "source": [
        "from tensorflow.keras.utils import to_categorical\n",
        "y = to_categorical(labels).astype(int)\n",
        "y.shape"
      ],
      "metadata": {
        "colab": {
          "base_uri": "https://localhost:8080/"
        },
        "id": "GUM7xHPM0VoI",
        "outputId": "325a55a4-1099-45b6-ef34-418b8f591b4c"
      },
      "execution_count": null,
      "outputs": [
        {
          "output_type": "execute_result",
          "data": {
            "text/plain": [
              "(4000, 4)"
            ]
          },
          "metadata": {},
          "execution_count": 42
        }
      ]
    },
    {
      "cell_type": "code",
      "source": [
        "from sklearn.model_selection import train_test_split\n",
        "train_data, test_data, train_labels, test_labels = train_test_split(X, y, test_size=0.2, random_state=0)\n",
        "test_data.shape"
      ],
      "metadata": {
        "colab": {
          "base_uri": "https://localhost:8080/"
        },
        "id": "HBUcPuHx0xqJ",
        "outputId": "e119fd31-c884-4a96-cfed-268892e4fb47"
      },
      "execution_count": null,
      "outputs": [
        {
          "output_type": "execute_result",
          "data": {
            "text/plain": [
              "(800, 42)"
            ]
          },
          "metadata": {},
          "execution_count": 43
        }
      ]
    },
    {
      "cell_type": "code",
      "source": [
        "import numpy as np\n",
        "from tensorflow.keras.models import Sequential\n",
        "from tensorflow.keras.layers import Dense, Dropout\n",
        "from tensorflow.keras.optimizers import Adam\n",
        "from tensorflow.keras.callbacks import EarlyStopping\n",
        "\n",
        "# Assume X is your input data of shape (N samples, K keypoints) and y is your labels\n",
        "# X = np.array(...)  # shape (N, K)\n",
        "# y = np.array(...)  # shape (N, num_classes)\n",
        "\n",
        "# Define the model\n",
        "model = Sequential()\n",
        "model.add(Dense(128, input_dim=X.shape[1], activation='relu'))\n",
        "model.add(Dropout(0.5))\n",
        "model.add(Dense(64, activation='relu'))\n",
        "model.add(Dropout(0.5))\n",
        "model.add(Dense(32, activation='relu'))\n",
        "model.add(Dense(4, activation='softmax'))\n",
        "\n",
        "# # Compile the model\n",
        "model.compile(loss='categorical_crossentropy', optimizer=Adam(), metrics=['accuracy'])\n",
        "\n",
        "# Define early stopping\n",
        "early_stopping = EarlyStopping(monitor='val_loss', patience=10, restore_best_weights=True)\n",
        "\n",
        "# Train the model\n",
        "history = model.fit(train_data, train_labels, validation_split=0.2, epochs=50, batch_size=32, callbacks=[early_stopping])\n",
        "\n",
        "# Evaluate the model\n",
        "loss, accuracy = model.evaluate(test_data, test_labels)\n",
        "print(f'Test accuracy: {accuracy:.2f}')"
      ],
      "metadata": {
        "colab": {
          "base_uri": "https://localhost:8080/"
        },
        "id": "ASOQ1CsbyHsu",
        "outputId": "0f7344a7-95e9-453e-c9be-7ae3721abf87"
      },
      "execution_count": null,
      "outputs": [
        {
          "output_type": "stream",
          "name": "stdout",
          "text": [
            "Epoch 1/50\n",
            "80/80 [==============================] - 2s 6ms/step - loss: 0.9611 - accuracy: 0.6020 - val_loss: 0.3438 - val_accuracy: 0.8906\n",
            "Epoch 2/50\n",
            "80/80 [==============================] - 0s 4ms/step - loss: 0.3594 - accuracy: 0.8742 - val_loss: 0.0852 - val_accuracy: 0.9828\n",
            "Epoch 3/50\n",
            "80/80 [==============================] - 0s 4ms/step - loss: 0.1917 - accuracy: 0.9395 - val_loss: 0.0323 - val_accuracy: 0.9906\n",
            "Epoch 4/50\n",
            "80/80 [==============================] - 0s 4ms/step - loss: 0.1117 - accuracy: 0.9688 - val_loss: 0.0177 - val_accuracy: 0.9922\n",
            "Epoch 5/50\n",
            "80/80 [==============================] - 0s 4ms/step - loss: 0.0764 - accuracy: 0.9777 - val_loss: 0.0112 - val_accuracy: 0.9953\n",
            "Epoch 6/50\n",
            "80/80 [==============================] - 0s 4ms/step - loss: 0.0513 - accuracy: 0.9852 - val_loss: 0.0079 - val_accuracy: 0.9984\n",
            "Epoch 7/50\n",
            "80/80 [==============================] - 0s 4ms/step - loss: 0.0490 - accuracy: 0.9836 - val_loss: 0.0062 - val_accuracy: 0.9984\n",
            "Epoch 8/50\n",
            "80/80 [==============================] - 0s 4ms/step - loss: 0.0427 - accuracy: 0.9883 - val_loss: 0.0061 - val_accuracy: 0.9984\n",
            "Epoch 9/50\n",
            "80/80 [==============================] - 0s 4ms/step - loss: 0.0279 - accuracy: 0.9941 - val_loss: 0.0045 - val_accuracy: 0.9984\n",
            "Epoch 10/50\n",
            "80/80 [==============================] - 0s 4ms/step - loss: 0.0251 - accuracy: 0.9941 - val_loss: 0.0058 - val_accuracy: 0.9984\n",
            "Epoch 11/50\n",
            "80/80 [==============================] - 0s 4ms/step - loss: 0.0288 - accuracy: 0.9902 - val_loss: 0.0067 - val_accuracy: 0.9984\n",
            "Epoch 12/50\n",
            "80/80 [==============================] - 0s 4ms/step - loss: 0.0268 - accuracy: 0.9930 - val_loss: 0.0079 - val_accuracy: 0.9984\n",
            "Epoch 13/50\n",
            "80/80 [==============================] - 0s 4ms/step - loss: 0.0160 - accuracy: 0.9961 - val_loss: 0.0018 - val_accuracy: 1.0000\n",
            "Epoch 14/50\n",
            "80/80 [==============================] - 0s 5ms/step - loss: 0.0163 - accuracy: 0.9957 - val_loss: 0.0014 - val_accuracy: 1.0000\n",
            "Epoch 15/50\n",
            "80/80 [==============================] - 0s 4ms/step - loss: 0.0168 - accuracy: 0.9961 - val_loss: 9.8610e-04 - val_accuracy: 1.0000\n",
            "Epoch 16/50\n",
            "80/80 [==============================] - 0s 4ms/step - loss: 0.0147 - accuracy: 0.9973 - val_loss: 7.9656e-04 - val_accuracy: 1.0000\n",
            "Epoch 17/50\n",
            "80/80 [==============================] - 0s 4ms/step - loss: 0.0161 - accuracy: 0.9961 - val_loss: 3.1327e-04 - val_accuracy: 1.0000\n",
            "Epoch 18/50\n",
            "80/80 [==============================] - 0s 4ms/step - loss: 0.0207 - accuracy: 0.9926 - val_loss: 3.7261e-04 - val_accuracy: 1.0000\n",
            "Epoch 19/50\n",
            "80/80 [==============================] - 0s 4ms/step - loss: 0.0116 - accuracy: 0.9973 - val_loss: 0.0019 - val_accuracy: 0.9984\n",
            "Epoch 20/50\n",
            "80/80 [==============================] - 0s 5ms/step - loss: 0.0106 - accuracy: 0.9988 - val_loss: 2.7419e-04 - val_accuracy: 1.0000\n",
            "Epoch 21/50\n",
            "80/80 [==============================] - 1s 6ms/step - loss: 0.0121 - accuracy: 0.9965 - val_loss: 2.8000e-04 - val_accuracy: 1.0000\n",
            "Epoch 22/50\n",
            "80/80 [==============================] - 1s 7ms/step - loss: 0.0092 - accuracy: 0.9980 - val_loss: 1.0263e-04 - val_accuracy: 1.0000\n",
            "Epoch 23/50\n",
            "80/80 [==============================] - 0s 6ms/step - loss: 0.0074 - accuracy: 0.9973 - val_loss: 1.3324e-04 - val_accuracy: 1.0000\n",
            "Epoch 24/50\n",
            "80/80 [==============================] - 0s 6ms/step - loss: 0.0063 - accuracy: 0.9984 - val_loss: 3.1504e-04 - val_accuracy: 1.0000\n",
            "Epoch 25/50\n",
            "80/80 [==============================] - 1s 6ms/step - loss: 0.0139 - accuracy: 0.9973 - val_loss: 1.9398e-04 - val_accuracy: 1.0000\n",
            "Epoch 26/50\n",
            "80/80 [==============================] - 0s 4ms/step - loss: 0.0087 - accuracy: 0.9977 - val_loss: 1.2276e-04 - val_accuracy: 1.0000\n",
            "Epoch 27/50\n",
            "80/80 [==============================] - 0s 4ms/step - loss: 0.0112 - accuracy: 0.9961 - val_loss: 4.8183e-04 - val_accuracy: 1.0000\n",
            "Epoch 28/50\n",
            "80/80 [==============================] - 0s 4ms/step - loss: 0.0126 - accuracy: 0.9969 - val_loss: 1.8786e-04 - val_accuracy: 1.0000\n",
            "Epoch 29/50\n",
            "80/80 [==============================] - 0s 4ms/step - loss: 0.0200 - accuracy: 0.9937 - val_loss: 2.2774e-04 - val_accuracy: 1.0000\n",
            "Epoch 30/50\n",
            "80/80 [==============================] - 0s 4ms/step - loss: 0.0092 - accuracy: 0.9969 - val_loss: 9.5537e-04 - val_accuracy: 1.0000\n",
            "Epoch 31/50\n",
            "80/80 [==============================] - 0s 4ms/step - loss: 0.0055 - accuracy: 0.9988 - val_loss: 1.0253e-04 - val_accuracy: 1.0000\n",
            "Epoch 32/50\n",
            "80/80 [==============================] - 0s 4ms/step - loss: 0.0088 - accuracy: 0.9969 - val_loss: 2.0991e-04 - val_accuracy: 1.0000\n",
            "Epoch 33/50\n",
            "80/80 [==============================] - 0s 4ms/step - loss: 0.0078 - accuracy: 0.9977 - val_loss: 1.8274e-04 - val_accuracy: 1.0000\n",
            "Epoch 34/50\n",
            "80/80 [==============================] - 0s 4ms/step - loss: 0.0057 - accuracy: 0.9984 - val_loss: 1.6636e-04 - val_accuracy: 1.0000\n",
            "Epoch 35/50\n",
            "80/80 [==============================] - 0s 4ms/step - loss: 0.0037 - accuracy: 0.9984 - val_loss: 2.0253e-05 - val_accuracy: 1.0000\n",
            "Epoch 36/50\n",
            "80/80 [==============================] - 0s 4ms/step - loss: 0.0065 - accuracy: 0.9980 - val_loss: 1.1599e-05 - val_accuracy: 1.0000\n",
            "Epoch 37/50\n",
            "80/80 [==============================] - 0s 4ms/step - loss: 0.0026 - accuracy: 0.9988 - val_loss: 1.2492e-05 - val_accuracy: 1.0000\n",
            "Epoch 38/50\n",
            "80/80 [==============================] - 0s 4ms/step - loss: 0.0034 - accuracy: 0.9984 - val_loss: 2.3040e-05 - val_accuracy: 1.0000\n",
            "Epoch 39/50\n",
            "80/80 [==============================] - 0s 4ms/step - loss: 0.0060 - accuracy: 0.9977 - val_loss: 2.1251e-04 - val_accuracy: 1.0000\n",
            "Epoch 40/50\n",
            "80/80 [==============================] - 0s 4ms/step - loss: 0.0114 - accuracy: 0.9961 - val_loss: 1.3355e-04 - val_accuracy: 1.0000\n",
            "Epoch 41/50\n",
            "80/80 [==============================] - 0s 4ms/step - loss: 0.0074 - accuracy: 0.9988 - val_loss: 3.7753e-05 - val_accuracy: 1.0000\n",
            "Epoch 42/50\n",
            "80/80 [==============================] - 0s 5ms/step - loss: 0.0086 - accuracy: 0.9977 - val_loss: 2.6748e-05 - val_accuracy: 1.0000\n",
            "Epoch 43/50\n",
            "80/80 [==============================] - 0s 4ms/step - loss: 0.0050 - accuracy: 0.9988 - val_loss: 9.3317e-05 - val_accuracy: 1.0000\n",
            "Epoch 44/50\n",
            "80/80 [==============================] - 0s 4ms/step - loss: 0.0055 - accuracy: 0.9980 - val_loss: 0.0011 - val_accuracy: 1.0000\n",
            "Epoch 45/50\n",
            "80/80 [==============================] - 0s 5ms/step - loss: 0.0090 - accuracy: 0.9980 - val_loss: 5.7232e-05 - val_accuracy: 1.0000\n",
            "Epoch 46/50\n",
            "80/80 [==============================] - 0s 4ms/step - loss: 0.0053 - accuracy: 0.9980 - val_loss: 1.2417e-05 - val_accuracy: 1.0000\n",
            "25/25 [==============================] - 0s 3ms/step - loss: 6.0685e-04 - accuracy: 1.0000\n",
            "Test accuracy: 1.00\n"
          ]
        }
      ]
    },
    {
      "cell_type": "code",
      "source": [
        "model.save_weights(\"./weights4c.h5\")"
      ],
      "metadata": {
        "id": "NBneQleK2T4S"
      },
      "execution_count": null,
      "outputs": []
    },
    {
      "cell_type": "code",
      "source": [
        "model.load_weights('./weights4c.h5')"
      ],
      "metadata": {
        "id": "Z0W6y0GS3Zzp"
      },
      "execution_count": null,
      "outputs": []
    },
    {
      "cell_type": "code",
      "source": [
        "loss, accuracy = model.evaluate(test_data, test_labels)\n",
        "print(f'Test accuracy: {accuracy:.2f}')"
      ],
      "metadata": {
        "colab": {
          "base_uri": "https://localhost:8080/"
        },
        "id": "bVi60L7P3yBy",
        "outputId": "913fb92d-a5e6-4613-a5ac-477f6349c7b4"
      },
      "execution_count": null,
      "outputs": [
        {
          "output_type": "stream",
          "name": "stdout",
          "text": [
            "25/25 [==============================] - 0s 3ms/step - loss: 3.0385e-04 - accuracy: 1.0000\n",
            "Test accuracy: 1.00\n"
          ]
        }
      ]
    },
    {
      "cell_type": "code",
      "source": [
        "key = X[0].reshape(1, -1)\n",
        "key.shape"
      ],
      "metadata": {
        "colab": {
          "base_uri": "https://localhost:8080/"
        },
        "id": "F-5_KvyBBtHS",
        "outputId": "376ef365-1b6e-4712-ff9a-c09761e3f593"
      },
      "execution_count": null,
      "outputs": [
        {
          "output_type": "execute_result",
          "data": {
            "text/plain": [
              "(1, 42)"
            ]
          },
          "metadata": {},
          "execution_count": 29
        }
      ]
    },
    {
      "cell_type": "code",
      "source": [
        "sign = model.predict(key)\n",
        "sign"
      ],
      "metadata": {
        "colab": {
          "base_uri": "https://localhost:8080/"
        },
        "id": "AsnVdknLAvfk",
        "outputId": "db26594c-07de-4219-e7dc-0bf2d4754994"
      },
      "execution_count": null,
      "outputs": [
        {
          "output_type": "stream",
          "name": "stdout",
          "text": [
            "1/1 [==============================] - 0s 101ms/step\n"
          ]
        },
        {
          "output_type": "execute_result",
          "data": {
            "text/plain": [
              "array([[9.9999976e-01, 2.6300603e-07, 4.3536681e-09, 3.8784491e-09]],\n",
              "      dtype=float32)"
            ]
          },
          "metadata": {},
          "execution_count": 30
        }
      ]
    },
    {
      "cell_type": "code",
      "source": [
        "from graphviz import Digraph\n",
        "\n",
        "dot = Digraph()\n",
        "dot.node('Entrada', 'Capa de Entrada\\n42 unidades')\n",
        "dot.node('Densa1', 'Capa Densa\\n128 unidades\\nActivación ReLU')\n",
        "dot.node('Dropout1', 'Capa Dropout\\n0.5')\n",
        "dot.node('Densa2', 'Capa Densa\\n64 unidades\\nActivación ReLU')\n",
        "dot.node('Dropout2', 'Capa Dropout\\n0.5')\n",
        "dot.node('Densa3', 'Capa Densa\\n32 unidades\\nActivación ReLU')\n",
        "dot.node('Densa4', 'Capa Densa\\n4 unidades\\nActivación Softmax')\n",
        "\n",
        "dot.edge('Entrada', 'Densa1')\n",
        "dot.edge('Densa1', 'Dropout1')\n",
        "dot.edge('Dropout1', 'Densa2')\n",
        "dot.edge('Densa2', 'Dropout2')\n",
        "dot.edge('Dropout2', 'Densa3')\n",
        "dot.edge('Densa3', 'Densa4')\n",
        "\n",
        "dot.render('arquitectura_red_neuronal', format='png')"
      ],
      "metadata": {
        "colab": {
          "base_uri": "https://localhost:8080/",
          "height": 35
        },
        "id": "QbKS40ijZqrs",
        "outputId": "a340e861-934f-4d0f-9ba2-b1615809fb65"
      },
      "execution_count": null,
      "outputs": [
        {
          "output_type": "execute_result",
          "data": {
            "text/plain": [
              "'arquitectura_red_neuronal.png'"
            ],
            "application/vnd.google.colaboratory.intrinsic+json": {
              "type": "string"
            }
          },
          "metadata": {},
          "execution_count": 4
        }
      ]
    }
  ]
}